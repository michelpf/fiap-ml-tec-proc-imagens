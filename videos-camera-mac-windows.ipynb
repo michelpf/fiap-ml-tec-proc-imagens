{
 "cells": [
  {
   "cell_type": "code",
   "execution_count": null,
   "metadata": {
    "collapsed": true
   },
   "outputs": [],
   "source": [
    "import cv2\n",
    "from matplotlib import pyplot as plt\n",
    "import numpy as np"
   ]
  },
  {
   "cell_type": "markdown",
   "metadata": {},
   "source": [
    "## Trabalhar com vídeos ou webcam\n",
    "### Windows\n",
    "\n",
    "A melhor forma de trabalhar com vídeos no windows, é utilizar o próprio método de visualização do OpenCV, o ```cv2.imshow```, ao invés do PyPlot. Em algumas máquinas renderizar o vídeo no PyPlot pode ser lento."
   ]
  },
  {
   "cell_type": "code",
   "execution_count": null,
   "metadata": {
    "collapsed": true
   },
   "outputs": [],
   "source": [
    "cam_capture = cv2.VideoCapture(0)\n",
    "\n",
    "while True:\n",
    "    ret, image_frame = cam_capture.read()\n",
    "    if ret:\n",
    "        cv2.imshow(\"Tracos\", transformacao_tracos(image_frame))\n",
    "    if cv2.waitKey(1) == 13:\n",
    "        break\n",
    "        \n",
    "cam_capture.release()\n",
    "cv2.destroyAllWindows()"
   ]
  },
  {
   "cell_type": "markdown",
   "metadata": {},
   "source": [
    "### MacOS\n",
    "\n",
    "No MacOs o método ```cv2.imshow``` abre um *popup* de imagem, porém as instruções de fechá-la, como ```cv2.destroyAllWindows()``` não funciona, resultando no travamento do ambiente de desenvolvimento. Por tal razão desenvolvi o algoritmo abaixo, adatpado deste [artigo](https://medium.com/@kostal91/displaying-real-time-webcam-stream-in-ipython-at-relatively-high-framerate-8e67428ac522). \n",
    "\n",
    "Neste método, para interromper o vídeo ou o *streaming* da câmera (webcam), é preciso clicar no menu do Jupyter, Kernel, Interrupt Kernel."
   ]
  },
  {
   "cell_type": "code",
   "execution_count": null,
   "metadata": {
    "collapsed": true
   },
   "outputs": [],
   "source": [
    "from io import BytesIO\n",
    "from IPython.display import clear_output, Image, display\n",
    "import PIL\n",
    "\n",
    "# Atenção, para interromper é clicar no menu do Jupyter, Kernel, Interrupt Kernel.\n",
    "\n",
    "cam = cv2.VideoCapture(0)\n",
    "try:\n",
    "    while(True):\n",
    "        is_capturing, frame = cam.read()\n",
    "        if is_capturing:\n",
    "\n",
    "            frame = cv2.cvtColor(frame, cv2.COLOR_BGR2RGB)\n",
    "            img = PIL.Image.fromarray(frame, \"RGB\")\n",
    "            buffer = BytesIO()\n",
    "            img.save(buffer,format=\"JPEG\")        \n",
    "            display(Image(data=buffer.getvalue()))\n",
    "\n",
    "        clear_output(wait=True)\n",
    "except KeyboardInterrupt:\n",
    "    cam.release()\n",
    "    print(\"Interrompido\")"
   ]
  }
 ],
 "metadata": {
  "kernelspec": {
   "display_name": "Python 3",
   "language": "python",
   "name": "python3"
  },
  "language_info": {
   "codemirror_mode": {
    "name": "ipython",
    "version": 3
   },
   "file_extension": ".py",
   "mimetype": "text/x-python",
   "name": "python",
   "nbconvert_exporter": "python",
   "pygments_lexer": "ipython3",
   "version": "3.6.5"
  }
 },
 "nbformat": 4,
 "nbformat_minor": 2
}
