{
 "cells": [
  {
   "cell_type": "markdown",
   "metadata": {},
   "source": [
    "## Desafio 1\n",
    "\n",
    "\n",
    "Pesquise no repositório de classificadores pré-treinados de Haar, um classificador de sorriso e exiba em tela a área referente ao retângulo do sorriso detectado.\n",
    "Por se tratar de um componente de face, avalie combinar mais que um classificador."
   ]
  },
  {
   "cell_type": "code",
   "execution_count": 3,
   "metadata": {},
   "outputs": [],
   "source": [
    "import cv2\n",
    "from matplotlib import pyplot as plt\n",
    "import numpy as np"
   ]
  },
  {
   "cell_type": "code",
   "execution_count": 4,
   "metadata": {},
   "outputs": [],
   "source": [
    "def identificar_sorriso(imagem):\n",
    "    face_classifier = cv2.CascadeClassifier('../classificadores/haarcascade_frontalface_default.xml')\n",
    "    smile_classifier = cv2.CascadeClassifier('../classificadores/haarcascade_smile.xml')\n",
    "\n",
    "    gray = cv2.cvtColor(imagem, cv2.COLOR_BGR2GRAY)\n",
    "    faces = face_classifier.detectMultiScale(gray, 1.3, 5)\n",
    "\n",
    "    if faces is ():\n",
    "         cv2.putText(imagem, \"ROSTO AUSENTE\", (50,50), cv2.FONT_HERSHEY_SIMPLEX, 2, (0,0,255), 2)\n",
    "\n",
    "    for (x,y,w,h) in faces:\n",
    "        \n",
    "        cv2.rectangle(imagem, (x, y), (x+w, y+h), (0, 0, 255), 2)\n",
    "        roi_gray = gray[y:y+h, x:x+w]\n",
    "        roi_color = imagem[y:y+h, x:x+w]\n",
    "        \n",
    "        smile = smile_classifier.detectMultiScale(\n",
    "            roi_gray,\n",
    "            scaleFactor= 1.7,\n",
    "            minNeighbors=22,\n",
    "            minSize=(25, 25),\n",
    "            flags=cv2.CASCADE_SCALE_IMAGE\n",
    "            )\n",
    "\n",
    "        # Set region of interest for smiles\n",
    "        for (x, y, w, h) in smile:\n",
    "            cv2.rectangle(roi_color, (x, y), (x+w, y+h), (255, 0, 0), 1)\n",
    "            tamanho = int(w) * int(h)\n",
    "            cv2.putText(imagem, \"SORRISO [%s]\"%(tamanho), (50,80), cv2.FONT_HERSHEY_SIMPLEX, 2, (255,0,0), 2)\n",
    "            break\n",
    "\n",
    "    return imagem"
   ]
  },
  {
   "cell_type": "code",
   "execution_count": 5,
   "metadata": {},
   "outputs": [],
   "source": [
    "#cam_capture.release()\n",
    "    \n",
    "cam_capture = cv2.VideoCapture(0)\n",
    "cv2.destroyAllWindows()\n",
    "\n",
    "while True:\n",
    "    ret, image_frame = cam_capture.read()\n",
    "    \n",
    "    if ret:\n",
    "        image_frame = identificar_sorriso(image_frame)\n",
    "        cv2.imshow(\"Detector de Rostos\", image_frame)\n",
    "        if cv2.waitKey(1) == 13:\n",
    "            break\n",
    "    else:\n",
    "        break\n",
    "        \n",
    "cam_capture.release()\n",
    "cv2.destroyAllWindows()"
   ]
  },
  {
   "cell_type": "code",
   "execution_count": null,
   "metadata": {},
   "outputs": [],
   "source": []
  }
 ],
 "metadata": {
  "kernelspec": {
   "display_name": "Python 3",
   "language": "python",
   "name": "python3"
  },
  "language_info": {
   "codemirror_mode": {
    "name": "ipython",
    "version": 3
   },
   "file_extension": ".py",
   "mimetype": "text/x-python",
   "name": "python",
   "nbconvert_exporter": "python",
   "pygments_lexer": "ipython3",
   "version": "3.6.5"
  }
 },
 "nbformat": 4,
 "nbformat_minor": 2
}
