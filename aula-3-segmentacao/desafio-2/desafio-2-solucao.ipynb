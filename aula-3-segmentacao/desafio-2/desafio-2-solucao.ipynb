{
 "cells": [
  {
   "cell_type": "markdown",
   "metadata": {},
   "source": [
    "## Desafio 2\n",
    "\n",
    "\n",
    "Dado uma imagem de captcha (no repositório, “imagens/dots.png”) obtenha o contorno dos caracteres e o exibia na imagem original.\n",
    "Realize a seguinte ordem: suavização, limiarização, dilatação/erosão, detecção de contornos.\n",
    "Bônus: use a função de enlaçamento de retângulo para extrair as letras.\n",
    "\n",
    "![Captcha](imagens/captcha-2.jpg)"
   ]
  },
  {
   "cell_type": "code",
   "execution_count": 189,
   "metadata": {
    "collapsed": true
   },
   "outputs": [],
   "source": [
    "import cv2\n",
    "from matplotlib import pyplot as plt\n",
    "import numpy as np"
   ]
  },
  {
   "cell_type": "code",
   "execution_count": 190,
   "metadata": {
    "collapsed": true
   },
   "outputs": [],
   "source": [
    "image = cv2.imread(\"imagens/captcha-2.jpg\", cv2.IMREAD_GRAYSCALE)\n",
    "cv2.imshow(\"Captcha\", image)\n",
    "cv2.waitKey()\n",
    "cv2.destroyAllWindows()"
   ]
  },
  {
   "cell_type": "markdown",
   "metadata": {},
   "source": [
    "Aplicando suavização para posterior limiarização"
   ]
  },
  {
   "cell_type": "code",
   "execution_count": 191,
   "metadata": {
    "collapsed": true
   },
   "outputs": [],
   "source": [
    "image_blur = cv2.blur(image, (5, 5))\n",
    "cv2.imshow(\"Old Person Blur\", image_blur)\n",
    "cv2.waitKey()\n",
    "cv2.destroyAllWindows()"
   ]
  },
  {
   "cell_type": "markdown",
   "metadata": {},
   "source": [
    "Aplicando limiarização para extração de ruídos"
   ]
  },
  {
   "cell_type": "code",
   "execution_count": 192,
   "metadata": {
    "collapsed": true
   },
   "outputs": [],
   "source": [
    "ret, t_image = cv2.threshold(image_blur, 140, 255, cv2.THRESH_BINARY)\n",
    "\n",
    "cv2.imshow(\"Captcha T\", t_image)\n",
    "cv2.waitKey()\n",
    "cv2.destroyAllWindows()"
   ]
  },
  {
   "cell_type": "markdown",
   "metadata": {},
   "source": [
    "Erodindo para enaltecer as letras. Lembrando que preto é ausência de informação logo, erodir significa abrir e \"engrossa\" as letras"
   ]
  },
  {
   "cell_type": "code",
   "execution_count": 193,
   "metadata": {
    "collapsed": true
   },
   "outputs": [],
   "source": [
    "kernel = np.ones((5,5), np.uint8)\n",
    "image_eroded = cv2.erode(t_image, kernel, iterations=1)\n",
    "\n",
    "cv2.imshow(\"Captcha Td\", image_eroded)\n",
    "cv2.waitKey()\n",
    "cv2.destroyAllWindows()"
   ]
  },
  {
   "cell_type": "markdown",
   "metadata": {},
   "source": [
    "Aplicando filtro Canny para detecção de bordas"
   ]
  },
  {
   "cell_type": "code",
   "execution_count": 194,
   "metadata": {
    "collapsed": true
   },
   "outputs": [],
   "source": [
    "image_edged = cv2.Canny(image_eroded, 30, 180)\n",
    "cv2.imshow(\"Formas 2 Edged\", image_edged)\n",
    "cv2.waitKey()\n",
    "cv2.destroyAllWindows()"
   ]
  },
  {
   "cell_type": "markdown",
   "metadata": {},
   "source": [
    "Dilatando as bordas para melhorar a detecção de contornos"
   ]
  },
  {
   "cell_type": "code",
   "execution_count": 195,
   "metadata": {
    "collapsed": true
   },
   "outputs": [],
   "source": [
    "kernel_d = np.ones((1,1), np.uint8)\n",
    "image_dilated = cv2.dilate(image_edged, kernel_d, iterations=1)\n",
    "cv2.imshow(\"Captcha D\", image_dilated)\n",
    "cv2.waitKey()\n",
    "cv2.destroyAllWindows()"
   ]
  },
  {
   "cell_type": "code",
   "execution_count": 196,
   "metadata": {},
   "outputs": [
    {
     "name": "stdout",
     "output_type": "stream",
     "text": [
      "Contornos encontrados 4\n"
     ]
    }
   ],
   "source": [
    "_, contours, hierarchy = cv2.findContours(image_dilated, cv2.RETR_EXTERNAL, cv2.CHAIN_APPROX_SIMPLE)\n",
    "print(\"Contornos encontrados \"+str(len(contours)))\n"
   ]
  },
  {
   "cell_type": "markdown",
   "metadata": {},
   "source": [
    "Se fossem encontrados mais do que as 4 letras poderíamos aplicar algum filtro de limite de tamnaho de área"
   ]
  },
  {
   "cell_type": "code",
   "execution_count": 197,
   "metadata": {},
   "outputs": [
    {
     "name": "stdout",
     "output_type": "stream",
     "text": [
      "702.5\n",
      "(273, 42, 28, 31)\n",
      "951.0\n",
      "(204, 42, 34, 39)\n",
      "718.5\n",
      "(239, 41, 30, 32)\n",
      "442.0\n",
      "(308, 38, 25, 35)\n"
     ]
    },
    {
     "data": {
      "text/plain": [
       "4"
      ]
     },
     "execution_count": 197,
     "metadata": {},
     "output_type": "execute_result"
    }
   ],
   "source": [
    "contours_filtered = []\n",
    "for idx, contour in enumerate(contours):\n",
    "    area = cv2.contourArea(contour)\n",
    "    if area > 100:\n",
    "        contours_filtered.append(contour)\n",
    "        (x, y, w, h) = cv2.boundingRect(contour)\n",
    "        print(str(area))\n",
    "        print((x, y, w, h))\n",
    "len(contours_filtered)"
   ]
  },
  {
   "cell_type": "markdown",
   "metadata": {},
   "source": [
    "Desenhando os contornos na imagem original"
   ]
  },
  {
   "cell_type": "code",
   "execution_count": 198,
   "metadata": {
    "collapsed": true
   },
   "outputs": [],
   "source": [
    "image_original = cv2.imread(\"imagens/captcha-2.jpg\")\n",
    "cv2.drawContours(image_original, contours_filtered, -1, (0,255,0), 2)\n",
    "cv2.imshow(\"Formas 2 Contours\", image_original)\n",
    "cv2.waitKey()\n",
    "cv2.destroyAllWindows()"
   ]
  },
  {
   "cell_type": "markdown",
   "metadata": {},
   "source": [
    "Extraindo letras para eventual treinamento em alguma algoritmo de rede neural, por exemplo"
   ]
  },
  {
   "cell_type": "code",
   "execution_count": 199,
   "metadata": {},
   "outputs": [
    {
     "name": "stdout",
     "output_type": "stream",
     "text": [
      "273 42 28 31\n",
      "204 42 34 39\n",
      "239 41 30 32\n",
      "308 38 25 35\n"
     ]
    }
   ],
   "source": [
    "for idx, contour in enumerate(contours_filtered):\n",
    "    (x, y, w, h) = cv2.boundingRect(contour)\n",
    "    letter_image = image_edged[y - 10:y + h + 30, x - 1:x + w + 1]\n",
    "    cv2.imwrite(str(idx) + \".png\", letter_image)\n",
    "    cv2.rectangle(image_original, (x,y), (x+w,y+h), (0, 255, 0), 2)\n",
    "    print(x, y, w, h)\n",
    "    \n",
    "    cv2.imshow(\"Formas 2 Contours\", letter_image)\n",
    "    cv2.waitKey()\n",
    "    cv2.destroyAllWindows()"
   ]
  },
  {
   "cell_type": "code",
   "execution_count": null,
   "metadata": {
    "collapsed": true
   },
   "outputs": [],
   "source": []
  }
 ],
 "metadata": {
  "kernelspec": {
   "display_name": "Python 3",
   "language": "python",
   "name": "python3"
  },
  "language_info": {
   "codemirror_mode": {
    "name": "ipython",
    "version": 3
   },
   "file_extension": ".py",
   "mimetype": "text/x-python",
   "name": "python",
   "nbconvert_exporter": "python",
   "pygments_lexer": "ipython3",
   "version": "3.6.5"
  }
 },
 "nbformat": 4,
 "nbformat_minor": 2
}
