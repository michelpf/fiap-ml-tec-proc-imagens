{
 "cells": [
  {
   "attachments": {},
   "cell_type": "markdown",
   "metadata": {},
   "source": [
    "## Desafio 1\n",
    "\n",
    "\n",
    "Em uma imagem de baralho completo, localize um 7 de Copas e o destaque com um retângulo, indicando com um texto acima a identificação da carta (“7 de Copas”).\n",
    "As imagens se encontram no repositório do GitHub.\n",
    "\n",
    "Imagem da carta de 7 de Copas\n",
    "\n",
    "<img src=\"imagens/playing-cards-7-copas.jpg\">\n",
    "\n",
    "Imagem do baralho completo\n",
    "\n",
    "<img src=\"imagens/playing-cards.jpg\">"
   ]
  },
  {
   "cell_type": "code",
   "execution_count": 2,
   "metadata": {},
   "outputs": [],
   "source": [
    "import cv2\n",
    "from matplotlib import pyplot as plt\n",
    "import numpy as np"
   ]
  },
  {
   "cell_type": "code",
   "execution_count": 33,
   "metadata": {},
   "outputs": [],
   "source": [
    "image = cv2.imread(\"imagens/playing-cards.jpg\")\n",
    "cv2.imshow(\"Jogo Completo\", image)\n",
    "cv2.waitKey()\n",
    "\n",
    "image_cards = cv2.imread(\"imagens/playing-cards-7-copas.jpg\")\n",
    "\n",
    "cv2.imshow(\"7 de Copas\", image_template)\n",
    "cv2.waitKey()\n",
    "\n",
    "cv2.destroyAllWindows()"
   ]
  },
  {
   "cell_type": "code",
   "execution_count": 40,
   "metadata": {},
   "outputs": [],
   "source": [
    "image_gray = cv2.cvtColor(image, cv2.COLOR_BGR2GRAY)\n",
    "image_template = cv2.cvtColor(image_cards, cv2.COLOR_BGR2GRAY)\n",
    "\n",
    "image_matched = image.copy()\n",
    "\n",
    "matched_template = cv2.matchTemplate(image_gray, image_template, cv2.TM_CCOEFF_NORMED)\n",
    "w, h = image_template.shape[::-1]\n",
    "\n",
    "min_val, max_val, min_loc, max_loc = cv2.minMaxLoc(matched_template)\n",
    "\n",
    "top_left = max_loc\n",
    "bottom_right = (top_left[0] + w, top_left[1] + h)\n",
    "\n",
    "cv2.rectangle(image_matched, top_left, bottom_right, (0,255,0), 2)\n",
    "cv2.putText(image_matched, \"7 de Copas\",  (top_left[0], top_left[1]-10), cv2.FONT_HERSHEY_SIMPLEX, 1, (0,255,0), 3)\n",
    "\n",
    "cv2.imshow(\"Card Matched\", image_matched)\n",
    "cv2.waitKey()\n",
    "cv2.destroyAllWindows()"
   ]
  },
  {
   "cell_type": "code",
   "execution_count": null,
   "metadata": {},
   "outputs": [],
   "source": []
  }
 ],
 "metadata": {
  "kernelspec": {
   "display_name": "Python 3",
   "language": "python",
   "name": "python3"
  },
  "language_info": {
   "codemirror_mode": {
    "name": "ipython",
    "version": 3
   },
   "file_extension": ".py",
   "mimetype": "text/x-python",
   "name": "python",
   "nbconvert_exporter": "python",
   "pygments_lexer": "ipython3",
   "version": "3.6.5"
  }
 },
 "nbformat": 4,
 "nbformat_minor": 2
}
