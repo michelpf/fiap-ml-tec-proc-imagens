{
 "cells": [
  {
   "cell_type": "markdown",
   "metadata": {},
   "source": [
    "## Desafio 1\n",
    "\n",
    "\n",
    "Crie uma função para transformar uma imagem colorida em um desenho (sketch) com fundo branco e traços na cor preta."
   ]
  },
  {
   "cell_type": "code",
   "execution_count": 1,
   "metadata": {
    "collapsed": true
   },
   "outputs": [],
   "source": [
    "import cv2\n",
    "from matplotlib import pyplot as plt\n",
    "import numpy as np"
   ]
  },
  {
   "cell_type": "code",
   "execution_count": 2,
   "metadata": {
    "collapsed": true
   },
   "outputs": [],
   "source": [
    "def transformacao_tracos(image):\n",
    "    \n",
    "    ## IMPLEMENTAR SOLUÇÃO\n",
    "    \n",
    "    return imagem_transformada"
   ]
  },
  {
   "cell_type": "markdown",
   "metadata": {},
   "source": [
    "Utilizando vídeo da *webcam*."
   ]
  },
  {
   "cell_type": "code",
   "execution_count": 6,
   "metadata": {
    "collapsed": true
   },
   "outputs": [],
   "source": [
    "cam_capture = cv2.VideoCapture(0)\n",
    "\n",
    "while True:\n",
    "    ret, image_frame = cam_capture.read()\n",
    "    if ret:\n",
    "        cv2.imshow(\"Tracos\", transformacao_tracos(image_frame))\n",
    "    if cv2.waitKey(1) == 13:\n",
    "        break\n",
    "        \n",
    "cam_capture.release()\n",
    "cv2.destroyAllWindows()"
   ]
  },
  {
   "cell_type": "code",
   "execution_count": 4,
   "metadata": {
    "collapsed": true
   },
   "outputs": [],
   "source": [
    "image = cv2.imread(\"imagens/robocop.jpg\")\n",
    "\n",
    "cv2.imshow(\"Robocop\", image)\n",
    "cv2.waitKey()\n",
    "\n",
    "cv2.imshow(\"Robocop Sketched\", sketch_transform(image))\n",
    "cv2.waitKey()\n",
    "\n",
    "cv2.destroyAllWindows()"
   ]
  }
 ],
 "metadata": {
  "kernelspec": {
   "display_name": "Python 3",
   "language": "python",
   "name": "python3"
  },
  "language_info": {
   "codemirror_mode": {
    "name": "ipython",
    "version": 3
   },
   "file_extension": ".py",
   "mimetype": "text/x-python",
   "name": "python",
   "nbconvert_exporter": "python",
   "pygments_lexer": "ipython3",
   "version": "3.6.5"
  }
 },
 "nbformat": 4,
 "nbformat_minor": 2
}
