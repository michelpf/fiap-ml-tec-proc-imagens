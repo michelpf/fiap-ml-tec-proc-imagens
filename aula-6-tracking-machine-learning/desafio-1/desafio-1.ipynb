{
 "cells": [
  {
   "cell_type": "markdown",
   "metadata": {},
   "source": [
    "## Desafio 1\n",
    "\n",
    "\n",
    "Dada uma base de dados de imagens de pessoas da [Caltech](http://www.vision.caltech.edu/html-files/archive.html) na pasta \"caltech\", colete os dados de cada pessoa, das 10 disponíveis, identificado por meio do seu id (\"Subject 1\", \"Subject 2\"  e assim por diante). Use a pasta \"train\" para treinar um modelo de classificador de rostos e valide os resultados com outras amostras que estão na pasta \"val\".\n",
    "\n",
    "Após os testes, teste seu modelo com 10 imagens na pasta \"imagens\" e avalie como o classificador escolhido se comportou.\n",
    "\n",
    "Utilize como referência dos sujeitos a ordem a seguir.\n",
    "\n",
    "Sujeito 1\n",
    "<img src=\"imagens/caltech/train/1/image_0002.jpg\" width=\"40%\" height=\"40%\">\n",
    "\n",
    "Sujeito 2\n",
    "<img src=\"imagens/caltech/train/2/image_0023.jpg\" width=\"40%\" height=\"40%\">\n",
    "\n",
    "Sujeito 3\n",
    "<img src=\"imagens/caltech/train/3/image_0048.jpg\" width=\"40%\" height=\"40%\">\n",
    "\n",
    "Sujeito 4\n",
    "<img src=\"imagens/caltech/train/4/image_0070.jpg\" width=\"40%\" height=\"40%\">\n",
    "\n",
    "Sujeito 5\n",
    "<img src=\"imagens/caltech/train/5/image_0091.jpg\" width=\"40%\" height=\"40%\">\n",
    "\n",
    "Sujeito 6\n",
    "<img src=\"imagens/caltech/train/6/image_0114.jpg\" width=\"40%\" height=\"40%\">\n",
    "\n",
    "Sujeito 7\n",
    "<img src=\"imagens/caltech/train/7/image_0139.jpg\" width=\"40%\" height=\"40%\">\n",
    "\n",
    "Sujeito 8\n",
    "<img src=\"imagens/caltech/train/8/image_0197.jpg\" width=\"40%\" height=\"40%\">\n",
    "\n",
    "Sujeito 9\n",
    "<img src=\"imagens/caltech/train/9/image_0243.jpg\" width=\"40%\" height=\"40%\">\n",
    "\n",
    "Sujeito 10\n",
    "<img src=\"imagens/caltech/train/10/image_0429.jpg\" width=\"40%\" height=\"40%\">"
   ]
  },
  {
   "cell_type": "code",
   "execution_count": null,
   "metadata": {
    "collapsed": true
   },
   "outputs": [],
   "source": [
    "import cv2\n",
    "from matplotlib import pyplot as plt\n",
    "import numpy as np\n",
    "import glob"
   ]
  },
  {
   "cell_type": "markdown",
   "metadata": {},
   "source": [
    "Implementar extrator de face."
   ]
  },
  {
   "cell_type": "code",
   "execution_count": null,
   "metadata": {
    "collapsed": true
   },
   "outputs": [],
   "source": [
    "face_classifier = cv2.CascadeClassifier('classificadores/haarcascade_frontalface_default.xml')\n",
    "\n",
    "# Extrator de faces\n",
    "def face_extractor(img):\n",
    "    try:\n",
    "        \n",
    "        ## IMPLEMENTAR SOLUCAO\n",
    "            \n",
    "    except:\n",
    "        return None\n",
    "\n",
    "    return cropped_face"
   ]
  },
  {
   "cell_type": "markdown",
   "metadata": {},
   "source": [
    "Normalizar o tamanho das imagens em 200 x 200."
   ]
  },
  {
   "cell_type": "code",
   "execution_count": null,
   "metadata": {
    "collapsed": true
   },
   "outputs": [],
   "source": [
    "def normalizar_imagens(subject):\n",
    "    list_files = []\n",
    "    i = 1\n",
    "    no_face = 0\n",
    "    total = 0\n",
    "    for file in glob.glob(\"imagens/caltech/train/\"+str(subject)+\"/*\"):\n",
    "        total+=1\n",
    "        image = cv2.imread(file);\n",
    "        face = face_extractor(image)\n",
    "        if face is not None:\n",
    "            \n",
    "            ## IMPLEMENTAR SOLUCAO\n",
    "            \n",
    "            file_name_path = \"imagens/caltech/train/\"+str(subject)+\"/norm/\"+str(i)+\".png\"\n",
    "            cv2.imwrite(file_name_path, image_norm)\n",
    "            list_files.append(file_name_path)\n",
    "            i += 1\n",
    "        else:\n",
    "            no_face += 1\n",
    "    print(\"Faces localizadas \"+str(i) + \"/\" + str(total))\n",
    "    return list_files"
   ]
  },
  {
   "cell_type": "markdown",
   "metadata": {},
   "source": [
    "Carregando base de treinamento."
   ]
  },
  {
   "cell_type": "code",
   "execution_count": null,
   "metadata": {
    "collapsed": true
   },
   "outputs": [],
   "source": [
    "def carregar_treinamento():\n",
    "    training_data, labels = [], []\n",
    "\n",
    "    ## IMPLEMENTAR SOLUCAO\n",
    "\n",
    "    # Criando uma matriz da lista de labels\n",
    "    labels = np.asarray(labels, dtype=np.int32)\n",
    "    return training_data, labels"
   ]
  },
  {
   "cell_type": "code",
   "execution_count": null,
   "metadata": {},
   "outputs": [],
   "source": [
    "training_data, labels = carregar_treinamento()"
   ]
  },
  {
   "cell_type": "markdown",
   "metadata": {},
   "source": [
    "Treinamento do modelo"
   ]
  },
  {
   "cell_type": "code",
   "execution_count": null,
   "metadata": {},
   "outputs": [],
   "source": [
    "## IMPLEMENTAR SOLUCAO"
   ]
  },
  {
   "cell_type": "markdown",
   "metadata": {},
   "source": [
    "Validar performance do modelo"
   ]
  },
  {
   "cell_type": "code",
   "execution_count": null,
   "metadata": {},
   "outputs": [],
   "source": [
    "i = 1\n",
    "no_face = 0\n",
    "for subject in list(range(1,11)):\n",
    "    print(\"Analisando \"+ str(subject))\n",
    "    total = 0\n",
    "    success = 0\n",
    "    for file in glob.glob(\"imagens/caltech/val/\"+str(subject)+\"/*\"):\n",
    "        total += 1\n",
    "        print(\"Analisando face \" + str(total))\n",
    "        \n",
    "        ## IMPLEMENTAR SOLUCAO\n",
    "        \n",
    "    print(\"Faces localizadas \"+str(success) + \"/\" + str(total)+ \" \"+str(float(success)*100/float(total)) + \"%\")"
   ]
  }
 ],
 "metadata": {
  "kernelspec": {
   "display_name": "Python 3",
   "language": "python",
   "name": "python3"
  },
  "language_info": {
   "codemirror_mode": {
    "name": "ipython",
    "version": 3
   },
   "file_extension": ".py",
   "mimetype": "text/x-python",
   "name": "python",
   "nbconvert_exporter": "python",
   "pygments_lexer": "ipython3",
   "version": "3.6.5"
  }
 },
 "nbformat": 4,
 "nbformat_minor": 2
}
